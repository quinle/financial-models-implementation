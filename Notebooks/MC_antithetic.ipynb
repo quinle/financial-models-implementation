{
 "cells": [
  {
   "cell_type": "markdown",
   "metadata": {},
   "source": [
    "In this notebook, we compare the result of Monte Carlo simulation with antithetic variance reduction with original Monte Carlo and confirm the result by closed form of Black-Scholes formula. \n",
    "Example: We price a one-year maturity, at the money European call option with the current asset price at 100 and volatility of 20 percent. The continuously compounded interest rate is 6% per year. The asset pays continuous dividend yield of 3% per year. \n",
    "K = 100, T = 1 year, S0 = 100, sigma = 0.2, r = 0.06, div = 0.03, N = 1, M = 100"
   ]
  },
  {
   "cell_type": "code",
   "execution_count": 1,
   "metadata": {},
   "outputs": [
    {
     "ename": "ImportError",
     "evalue": "attempted relative import with no known parent package",
     "output_type": "error",
     "traceback": [
      "\u001b[0;31m---------------------------------------------------------------------------\u001b[0m",
      "\u001b[0;31mImportError\u001b[0m                               Traceback (most recent call last)",
      "\u001b[1;32m/Users/quinn/Documents/Github/financial-models-implementation/Notebooks/MC_antithetic.ipynb Cell 2\u001b[0m in \u001b[0;36m<cell line: 5>\u001b[0;34m()\u001b[0m\n\u001b[1;32m      <a href='vscode-notebook-cell:/Users/quinn/Documents/Github/financial-models-implementation/Notebooks/MC_antithetic.ipynb#W0sZmlsZQ%3D%3D?line=2'>3</a>\u001b[0m \u001b[39mimport\u001b[39;00m \u001b[39mscipy\u001b[39;00m\u001b[39m.\u001b[39;00m\u001b[39mstats\u001b[39;00m \u001b[39mas\u001b[39;00m \u001b[39mss\u001b[39;00m\n\u001b[1;32m      <a href='vscode-notebook-cell:/Users/quinn/Documents/Github/financial-models-implementation/Notebooks/MC_antithetic.ipynb#W0sZmlsZQ%3D%3D?line=3'>4</a>\u001b[0m \u001b[39mimport\u001b[39;00m \u001b[39mmatplotlib\u001b[39;00m\u001b[39m.\u001b[39;00m\u001b[39mpyplot\u001b[39;00m \u001b[39mas\u001b[39;00m \u001b[39mplt\u001b[39;00m\n\u001b[0;32m----> <a href='vscode-notebook-cell:/Users/quinn/Documents/Github/financial-models-implementation/Notebooks/MC_antithetic.ipynb#W0sZmlsZQ%3D%3D?line=4'>5</a>\u001b[0m \u001b[39mfrom\u001b[39;00m \u001b[39m.\u001b[39;00m\u001b[39m.\u001b[39;00m\u001b[39mutils\u001b[39;00m\u001b[39m.\u001b[39;00m\u001b[39mBS_closed_form\u001b[39;00m \u001b[39mimport\u001b[39;00m BS_closed_continous_div\n\u001b[1;32m      <a href='vscode-notebook-cell:/Users/quinn/Documents/Github/financial-models-implementation/Notebooks/MC_antithetic.ipynb#W0sZmlsZQ%3D%3D?line=5'>6</a>\u001b[0m \u001b[39mfrom\u001b[39;00m \u001b[39m.\u001b[39;00m\u001b[39m.\u001b[39;00m\u001b[39mutils\u001b[39;00m\u001b[39m.\u001b[39;00m\u001b[39mMC\u001b[39;00m \u001b[39mimport\u001b[39;00m BS_MC\n\u001b[1;32m      <a href='vscode-notebook-cell:/Users/quinn/Documents/Github/financial-models-implementation/Notebooks/MC_antithetic.ipynb#W0sZmlsZQ%3D%3D?line=6'>7</a>\u001b[0m \u001b[39mfrom\u001b[39;00m \u001b[39m.\u001b[39;00m\u001b[39m.\u001b[39;00m\u001b[39mutils\u001b[39;00m\u001b[39m.\u001b[39;00m\u001b[39mMC_antithetic_var_reduction\u001b[39;00m \u001b[39mimport\u001b[39;00m BS_MC_antithetic\n",
      "\u001b[0;31mImportError\u001b[0m: attempted relative import with no known parent package"
     ]
    }
   ],
   "source": [
    "#import libraries\n",
    "import sys\n",
    "import os\n",
    "sys.path.append(os.path.join(os.path.dirname(os.path.abspath(__file__)), '..'))\n",
    "import numpy as np\n",
    "import scipy.stats as ss\n",
    "import matplotlib.pyplot as plt\n",
    "from utils.BS_closed_form import BS_closed_continous_div\n",
    "from utils.MC import BS_MC\n",
    "from utils.MC_antithetic_var_reduction import BS_MC_antithetic"
   ]
  },
  {
   "cell_type": "code",
   "execution_count": null,
   "metadata": {},
   "outputs": [
    {
     "data": {
      "text/plain": [
       "(9.248532381495506, 13.805480748361777, 0.09761949054706945)"
      ]
     },
     "execution_count": 3,
     "metadata": {},
     "output_type": "execute_result"
    }
   ],
   "source": [
    "#BlackScholes Monte Carlo for European call \n",
    "BS_MC(100, 1, 100, 0.2, 0.06, 0.03, 1, 20000)"
   ]
  },
  {
   "cell_type": "code",
   "execution_count": null,
   "metadata": {},
   "outputs": [
    {
     "data": {
      "text/plain": [
       "(9.115783237576306, 7.203221158736469, 0.05093446527728978)"
      ]
     },
     "execution_count": 5,
     "metadata": {},
     "output_type": "execute_result"
    }
   ],
   "source": [
    "#BlackScholes Monte Carlo for European call with antithetic variance reduction\n",
    "BS_MC_antithetic(100, 1, 100, 0.2, 0.06, 0.03, 1, 20000)"
   ]
  },
  {
   "cell_type": "code",
   "execution_count": null,
   "metadata": {},
   "outputs": [],
   "source": [
    "#Compare with result from BS closed from with continuous dividend\n",
    "BS_closed_continous_div(0.03, 'call', 100, 100, 0.06, 0.2, 1)\n",
    "    "
   ]
  }
 ],
 "metadata": {
  "kernelspec": {
   "display_name": "Python 3.8.9 64-bit",
   "language": "python",
   "name": "python3"
  },
  "language_info": {
   "codemirror_mode": {
    "name": "ipython",
    "version": 3
   },
   "file_extension": ".py",
   "mimetype": "text/x-python",
   "name": "python",
   "nbconvert_exporter": "python",
   "pygments_lexer": "ipython3",
   "version": "3.8.9"
  },
  "vscode": {
   "interpreter": {
    "hash": "31f2aee4e71d21fbe5cf8b01ff0e069b9275f58929596ceb00d14d90e3e16cd6"
   }
  }
 },
 "nbformat": 4,
 "nbformat_minor": 2
}
