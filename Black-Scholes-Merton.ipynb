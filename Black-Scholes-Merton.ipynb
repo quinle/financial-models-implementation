{
 "cells": [
  {
   "cell_type": "markdown",
   "id": "6f61aa12",
   "metadata": {},
   "source": [
    "We implement the most famous solutions to the differential equation $\\frac{\\partial f}{\\partial t} + r S \\frac{\\partial f}{\\partial S} + \\frac{1}{2} \\sigma^2 S^2 \\frac{\\partial^2 f}{\\partial S^2} = rf$ for the prices of European call and put options. These formulas are $c = S_0 N(d_1) - K e^{-r T} N(d_2)$ for the price of call and $p = Ke^{-rT} N(-d_2) - S_0 N(-d_1)$ for the price of put where \n",
    "$d_1 = \\frac{\\ln(S_0/K) + (r+\\sigma^2/2)T}{\\sigma \\sqrt{T}}$ and $d_2 = \\frac{\\ln(S_0/K) + (r-\\sigma^2/2)T}{\\sigma \\sqrt{T}} = d_1 - \\sigma \\sqrt{T}$"
   ]
  },
  {
   "cell_type": "code",
   "execution_count": 8,
   "id": "0b7cf219",
   "metadata": {},
   "outputs": [],
   "source": [
    "import numpy as np\n",
    "import scipy.stats as ss"
   ]
  },
  {
   "cell_type": "code",
   "execution_count": 9,
   "id": "7c368331",
   "metadata": {},
   "outputs": [],
   "source": [
    "#BSM pricer for European option on non-dividend stock\n",
    "def BlackScholesMerton(option_type, S0, K, r, sigma, T):\n",
    "    d1 = (np.log(S0/K) + (r + sigma**2/2)*T)/(sigma*np.sqrt(T))\n",
    "    d2 = d1 - sigma*np.sqrt(T)\n",
    "    if option_type == 'call':\n",
    "        return S0 * ss.norm.cdf(d1) - K * np.exp(-r*T) * ss.norm.cdf(d2)\n",
    "    elif option_type == 'put':\n",
    "        return K * np.exp(-r*T) * ss.norm.cdf(-d2) - S0 * ss.norm.cdf(-d1)"
   ]
  },
  {
   "cell_type": "code",
   "execution_count": 10,
   "id": "07d10989",
   "metadata": {},
   "outputs": [
    {
     "name": "stdout",
     "output_type": "stream",
     "text": [
      "call price is  4.759422392871532\n",
      "put price is  0.8085993729000922\n"
     ]
    }
   ],
   "source": [
    "#test the function on example 15.6\n",
    "print('call price is ', BlackScholesMerton('call', 42, 40, 0.1, 0.2, 0.5))\n",
    "print('put price is ', BlackScholesMerton('put', 42, 40, 0.1, 0.2, 0.5))"
   ]
  },
  {
   "cell_type": "code",
   "execution_count": 11,
   "id": "85c805a2",
   "metadata": {},
   "outputs": [],
   "source": [
    "#BSM pricer for European option on stock with dividend\n",
    "def BlackScholesMerton_d(d, x1, x2, option_type, S0, K, r, sigma, T): #d is the dividend on each ex-dividend date and x1, x2 were ex-divident date in months\n",
    "    d_present = d * np.exp(-r * x1 / 12) + d * np.exp(-r * x2 / 12)\n",
    "    return BlackScholesMerton(option_type, S0 - d_present, K, r, sigma, T)\n"
   ]
  },
  {
   "cell_type": "code",
   "execution_count": 12,
   "id": "1e4abb68",
   "metadata": {},
   "outputs": [
    {
     "data": {
      "text/plain": [
       "3.671233209047678"
      ]
     },
     "execution_count": 12,
     "metadata": {},
     "output_type": "execute_result"
    }
   ],
   "source": [
    "#test the function on example 15.9\n",
    "BlackScholesMerton_d(0.5, 2, 5, 'call', 40, 40, 0.09, 0.3, 0.5)"
   ]
  },
  {
   "cell_type": "code",
   "execution_count": null,
   "id": "4536ddf2",
   "metadata": {},
   "outputs": [],
   "source": [
    "#extension to American option\n"
   ]
  }
 ],
 "metadata": {
  "kernelspec": {
   "display_name": "Python 3 (ipykernel)",
   "language": "python",
   "name": "python3"
  },
  "language_info": {
   "codemirror_mode": {
    "name": "ipython",
    "version": 3
   },
   "file_extension": ".py",
   "mimetype": "text/x-python",
   "name": "python",
   "nbconvert_exporter": "python",
   "pygments_lexer": "ipython3",
   "version": "3.9.12"
  }
 },
 "nbformat": 4,
 "nbformat_minor": 5
}
