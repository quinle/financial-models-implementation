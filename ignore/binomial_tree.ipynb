{
 "cells": [
  {
   "cell_type": "code",
   "execution_count": 1,
   "metadata": {},
   "outputs": [],
   "source": [
    "import numpy as np"
   ]
  },
  {
   "cell_type": "code",
   "execution_count": 15,
   "metadata": {},
   "outputs": [],
   "source": [
    "#binomial tree valuation of European call\n",
    "def bi_tree(K, T, S, sig, r, N):\n",
    "    #precompute constants\n",
    "    dt = T/N\n",
    "    nu = r - 0.5*sig**2\n",
    "    dxu = np.sqrt(sig**2 * dt + (nu * dt)**2)\n",
    "    dxd = -dxu\n",
    "    pu = 1/2 + 1/2 * (nu * dt/dxu)\n",
    "    pd = 1 - pu\n",
    "    disc = np.exp(-r*dt)\n",
    "    \n",
    "    #initialize asset prices at maturity N\n",
    "    St = np.empty(N)\n",
    "    St[0] = S*np.exp(N*dxd)\n",
    "    for j in range(1,N):\n",
    "        St[j] = St[j-1] * np.exp(dxu - dxd)\n",
    "    print(St)\n",
    "    C = np.empty(N)\n",
    "    for j in range(N):\n",
    "        C[j] = max(0.0, St[j] - K)\n",
    "    print(C)\n",
    "    #step back through the tree\n",
    "    for i in range(N-1,0, -1):\n",
    "        for j in range(i):\n",
    "            C[j] = disc * (pu*C[j+1] + pd*C[j])\n",
    "    print(C)\n",
    "    return C[0]"
   ]
  },
  {
   "cell_type": "code",
   "execution_count": 16,
   "metadata": {},
   "outputs": [
    {
     "name": "stdout",
     "output_type": "stream",
     "text": [
      "[ 70.55963724  89.0263934  112.32623965]\n",
      "[ 0.          0.         12.32623965]\n",
      "[ 3.67892529  6.73404149 12.32623965]\n"
     ]
    },
    {
     "data": {
      "text/plain": [
       "3.6789252920175506"
      ]
     },
     "execution_count": 16,
     "metadata": {},
     "output_type": "execute_result"
    }
   ],
   "source": [
    "#test\n",
    "bi_tree(100, 1, 100, 0.2, 0.06, 3)"
   ]
  },
  {
   "cell_type": "code",
   "execution_count": null,
   "metadata": {},
   "outputs": [],
   "source": []
  }
 ],
 "metadata": {
  "kernelspec": {
   "display_name": "Python 3",
   "language": "python",
   "name": "python3"
  },
  "language_info": {
   "codemirror_mode": {
    "name": "ipython",
    "version": 3
   },
   "file_extension": ".py",
   "mimetype": "text/x-python",
   "name": "python",
   "nbconvert_exporter": "python",
   "pygments_lexer": "ipython3",
   "version": "3.6.8"
  }
 },
 "nbformat": 4,
 "nbformat_minor": 2
}
