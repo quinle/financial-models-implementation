{
 "cells": [
  {
   "cell_type": "code",
   "execution_count": 1,
   "metadata": {},
   "outputs": [],
   "source": [
    "import numpy as np\n",
    "import scipy.stats as ss\n",
    "import matplotlib.pyplot as plt\n",
    "\n",
    "\n",
    "#class GBM(self, T, mu, sigma, S0, dt):\n",
    "#    self.T = T\n",
    "#    self.mu = mu\n",
    "#    self.sigma = sigma\n",
    "#    self.S0 = S0\n",
    "#    self.dt = dt\n",
    "\n",
    "#    def gen_path(self, T, mu, sigma, S0, dt): #get BM path\n",
    "#        n = round(T/dt)\n",
    "#        t = np.linspace(0, T, n)\n",
    "#        W = [0] + np.random.standard_normal(size = n)\n",
    "#        W = np.cumsum(W) * np.sqrt(dt)\n",
    "#        X = (mu - 0.5*sigma**2)*t + sigma * W\n",
    "#        S = S0 * np.exp(X)\n",
    "#        plt.plot(t,S)\n",
    "#        return S\n",
    "\n"
   ]
  },
  {
   "cell_type": "code",
   "execution_count": 2,
   "metadata": {},
   "outputs": [],
   "source": [
    "#BlackScholes Monte Carlo for European call \n",
    "#M: number of simulation, N: number of time steps\n",
    "def BS_MC(K, T, S, sig, r, div, N, M):\n",
    "    dt = T/N\n",
    "    nudt = (r - div - 0.5*sig*sig)*dt\n",
    "    sigsdt = sig*np.sqrt(dt)\n",
    "    lnS = np.log(S)\n",
    "    \n",
    "    sum_CT = 0\n",
    "    sum_CT2 = 0\n",
    "\n",
    "    for j in range(M):\n",
    "        lnSt = lnS\n",
    "        for i in range(N):\n",
    "            eps = np.random.standard_normal()\n",
    "            lnSt += nudt + sigsdt * eps\n",
    "        ST = np.exp(lnSt)\n",
    "        CT = max(ST - K, 0)\n",
    "        sum_CT += CT\n",
    "        sum_CT2 += CT*CT\n",
    "    \n",
    "    call_value = sum_CT/M*np.exp(-r*T)\n",
    "    SD = np.sqrt((sum_CT2 - sum_CT*sum_CT/M)*np.exp(-2*r*T)/(M-1))\n",
    "    SE = SD/np.sqrt(M)\n",
    "    return call_value, SD, SE"
   ]
  },
  {
   "cell_type": "code",
   "execution_count": 3,
   "metadata": {},
   "outputs": [
    {
     "data": {
      "text/plain": [
       "(9.02897710723183, 13.484022059326426, 0.13484022059326425)"
      ]
     },
     "execution_count": 3,
     "metadata": {},
     "output_type": "execute_result"
    }
   ],
   "source": [
    "BS_MC(100, 1, 100, 0.2, 0.06, 0.03, 1, 20000)"
   ]
  },
  {
   "cell_type": "code",
   "execution_count": 10,
   "metadata": {},
   "outputs": [],
   "source": [
    "#BlackScholes Monte Carlo for European call with antithetic variance reduction\n",
    "def BS_MC_antithetic(K, T, S, sig, r, div, N, M):\n",
    "    dt = T/N\n",
    "    nudt = (r - div - 0.5*sig*sig)*dt\n",
    "    sigsdt = sig*np.sqrt(dt)\n",
    "    lnS = np.log(S)\n",
    "    \n",
    "    sum_CT = 0\n",
    "    sum_CT2 = 0\n",
    "    \n",
    "    for j in range(M):\n",
    "        lnSt1 = lnS\n",
    "        lnSt2 = lnS\n",
    "        \n",
    "        for i in range(N):\n",
    "            eps = np.random.standard_normal()\n",
    "            lnSt1 += nudt + sigsdt*eps\n",
    "            lnSt2 += nudt + sigsdt*(-eps)\n",
    "            \n",
    "        St1 = np.exp(lnSt1)\n",
    "        St2 = np.exp(lnSt2)\n",
    "        CT = 0.5*(max(0, St1 - K) + max(0, St2 - K))\n",
    "        sum_CT = sum_CT + CT\n",
    "        sum_CT2 = sum_CT2 + CT*CT\n",
    "    \n",
    "    call_value = sum_CT/M*np.exp(-r*T)\n",
    "    SD = np.sqrt((sum_CT2 - sum_CT*sum_CT/M)*np.exp(-2*r*T)/(M-1))\n",
    "    SE = SD/np.sqrt(M)\n",
    "    return call_value, SD, SE"
   ]
  },
  {
   "cell_type": "code",
   "execution_count": 11,
   "metadata": {},
   "outputs": [
    {
     "data": {
      "text/plain": [
       "(9.211345172346446, 7.279289981001223, 0.051472353077892594)"
      ]
     },
     "execution_count": 11,
     "metadata": {},
     "output_type": "execute_result"
    }
   ],
   "source": [
    "BS_MC_antithetic(100, 1, 100, 0.2, 0.06, 0.03, 1, 20000)"
   ]
  },
  {
   "cell_type": "code",
   "execution_count": null,
   "metadata": {},
   "outputs": [],
   "source": [
    "#BlackScholes Monte Carlo for European call with Delta-based control variate\n",
    "def BS_MC_delta_control(K, T, S, sig, r, div, N, M):\n",
    "    dt = T/N\n",
    "    nudt = (r - div - 0.5*sig*sig)*dt\n",
    "    sigsdt = sig*np.sqrt(dt)\n",
    "    erddt = np.exp((r-div)*dt)\n",
    "    \n",
    "    beta1 = -1\n",
    "    \n",
    "    sum_CT = 0\n",
    "    sum_CT2 = 0\n",
    "    \n",
    "    for j in range(M):\n",
    "        St = S\n",
    "        cv = 0\n",
    "        \n",
    "        for i in range(N):\n",
    "            t = (i-1)*dt\n",
    "            delta = BS_delta(St, t, K, T, sig, r, div)\n",
    "            eps = np.random.standard_normal()\n",
    "            Stn = St*np.exp(nudt + sigsdt*eps)\n",
    "            cv += delta*(Stn - St*erddt)\n",
    "            St = Stn\n",
    "        \n",
    "        CT = max(0, St - K) + beta1 * cv\n",
    "        sum_CT = sum_CT + CT\n",
    "        sum_CT2 = sum_CT2 + CT*CT\n",
    "        \n",
    "    call_value = sum_CT/M*np.exp(-r*T)\n",
    "    SD = np.sqrt((sum_CT2 - sum_CT*sum_CT/M) * np.exp(-2*r*T)/(M-1))\n",
    "    SE = SD/np.sqrt(M)\n",
    "    \n",
    "    "
   ]
  }
 ],
 "metadata": {
  "kernelspec": {
   "display_name": "Python 3",
   "language": "python",
   "name": "python3"
  },
  "language_info": {
   "codemirror_mode": {
    "name": "ipython",
    "version": 3
   },
   "file_extension": ".py",
   "mimetype": "text/x-python",
   "name": "python",
   "nbconvert_exporter": "python",
   "pygments_lexer": "ipython3",
   "version": "3.6.8"
  }
 },
 "nbformat": 4,
 "nbformat_minor": 2
}
